{
 "cells": [
  {
   "cell_type": "code",
   "execution_count": 2,
   "id": "bf3f6181-4d95-4d83-91ba-fbc58fe53412",
   "metadata": {},
   "outputs": [],
   "source": [
    "import pandas as pd\n",
    "from sklearn.model_selection import train_test_split"
   ]
  },
  {
   "cell_type": "code",
   "execution_count": 3,
   "id": "7cfc2b8a-2943-427d-8d45-0641c4dae185",
   "metadata": {},
   "outputs": [
    {
     "name": "stderr",
     "output_type": "stream",
     "text": [
      "/tmp/ipykernel_12923/1017622951.py:1: DtypeWarning: Columns (5) have mixed types. Specify dtype option on import or set low_memory=False.\n",
      "  df = pd.read_csv(\"cross_domain_uk_reviews/processed_data.csv\")\n"
     ]
    },
    {
     "data": {
      "text/plain": [
       "(662907, 12)"
      ]
     },
     "execution_count": 3,
     "metadata": {},
     "output_type": "execute_result"
    }
   ],
   "source": [
    "df = pd.read_csv(\"cross_domain_uk_reviews/processed_data.csv\")\n",
    "df.shape"
   ]
  },
  {
   "cell_type": "code",
   "execution_count": 4,
   "id": "13d6a7d7",
   "metadata": {},
   "outputs": [
    {
     "data": {
      "text/plain": [
       "(translated\n",
       " True     537101\n",
       " False    125806\n",
       " Name: count, dtype: int64,\n",
       " translated\n",
       " True     0.810221\n",
       " False    0.189779\n",
       " Name: proportion, dtype: float64)"
      ]
     },
     "execution_count": 4,
     "metadata": {},
     "output_type": "execute_result"
    }
   ],
   "source": [
    "df.translated.value_counts(), df.translated.value_counts(normalize = True)"
   ]
  },
  {
   "cell_type": "code",
   "execution_count": 5,
   "id": "01778b7b",
   "metadata": {},
   "outputs": [
    {
     "data": {
      "text/plain": [
       "array([['Свои задачи выполняет, не сильно греется. Достаточно удобная в работе. Рекомендую!',\n",
       "        'Вона виконує свої завдання , сильно не нагрівається . Досить зручно працювати . Рекомендую !']],\n",
       "      dtype=object)"
      ]
     },
     "execution_count": 5,
     "metadata": {},
     "output_type": "execute_result"
    }
   ],
   "source": [
    "df[df.translated==True].sample()[['review', 'review_translate']].values"
   ]
  },
  {
   "cell_type": "code",
   "execution_count": 6,
   "id": "b63676f2",
   "metadata": {},
   "outputs": [
    {
     "data": {
      "text/plain": [
       "rating\n",
       "5.0    0.653556\n",
       "4.0    0.162979\n",
       "3.0    0.071331\n",
       "1.0    0.065602\n",
       "2.0    0.046531\n",
       "Name: proportion, dtype: float64"
      ]
     },
     "execution_count": 6,
     "metadata": {},
     "output_type": "execute_result"
    }
   ],
   "source": [
    "df.rating.value_counts(True)"
   ]
  },
  {
   "cell_type": "code",
   "execution_count": 7,
   "id": "ec178e04",
   "metadata": {},
   "outputs": [
    {
     "data": {
      "text/plain": [
       "(125806, 12)"
      ]
     },
     "execution_count": 7,
     "metadata": {},
     "output_type": "execute_result"
    }
   ],
   "source": [
    "df = df[df.translated == False]\n",
    "df.shape"
   ]
  },
  {
   "cell_type": "code",
   "execution_count": 8,
   "id": "08cdc8d7",
   "metadata": {},
   "outputs": [
    {
     "data": {
      "text/plain": [
       "rating\n",
       "5.0    0.725570\n",
       "4.0    0.130344\n",
       "1.0    0.056301\n",
       "3.0    0.049902\n",
       "2.0    0.037884\n",
       "Name: proportion, dtype: float64"
      ]
     },
     "execution_count": 8,
     "metadata": {},
     "output_type": "execute_result"
    }
   ],
   "source": [
    "df.rating.value_counts(True)"
   ]
  },
  {
   "cell_type": "code",
   "execution_count": 9,
   "id": "8f488ddf-c3d8-4102-8b62-84b9397a6e58",
   "metadata": {},
   "outputs": [
    {
     "data": {
      "text/plain": [
       "count    125806.000000\n",
       "mean         21.465463\n",
       "std          29.345590\n",
       "min           1.000000\n",
       "50%          12.000000\n",
       "90%          49.000000\n",
       "95%          70.000000\n",
       "97%          90.000000\n",
       "99%         140.000000\n",
       "max        1177.000000\n",
       "Name: review, dtype: float64"
      ]
     },
     "execution_count": 9,
     "metadata": {},
     "output_type": "execute_result"
    }
   ],
   "source": [
    "df.review.apply(lambda x: len(x.split(' '))).describe(percentiles= [0.9, 0.95, 0.97, 0.99])"
   ]
  },
  {
   "cell_type": "code",
   "execution_count": 10,
   "id": "79026726",
   "metadata": {},
   "outputs": [
    {
     "data": {
      "text/html": [
       "<div>\n",
       "<style scoped>\n",
       "    .dataframe tbody tr th:only-of-type {\n",
       "        vertical-align: middle;\n",
       "    }\n",
       "\n",
       "    .dataframe tbody tr th {\n",
       "        vertical-align: top;\n",
       "    }\n",
       "\n",
       "    .dataframe thead th {\n",
       "        text-align: right;\n",
       "    }\n",
       "</style>\n",
       "<table border=\"1\" class=\"dataframe\">\n",
       "  <thead>\n",
       "    <tr style=\"text-align: right;\">\n",
       "      <th></th>\n",
       "      <th>review</th>\n",
       "      <th>review_translate</th>\n",
       "      <th>rating</th>\n",
       "      <th>entity_name</th>\n",
       "      <th>dataset_name</th>\n",
       "      <th>title_translate</th>\n",
       "      <th>translated</th>\n",
       "      <th>review_translate_sentences</th>\n",
       "      <th>review_translate_sentences_tokens</th>\n",
       "      <th>review_translate_sentences_pos</th>\n",
       "      <th>review_translate_sentences_lemma</th>\n",
       "      <th>is_question</th>\n",
       "    </tr>\n",
       "  </thead>\n",
       "  <tbody>\n",
       "    <tr>\n",
       "      <th>6794</th>\n",
       "      <td>Хороша альтернатива салонів -магазинів.\\n</td>\n",
       "      <td>Хороша альтернатива салонів - магазинів .</td>\n",
       "      <td>5.0</td>\n",
       "      <td>251887991</td>\n",
       "      <td>rozetka</td>\n",
       "      <td>NaN</td>\n",
       "      <td>False</td>\n",
       "      <td>['Хороша альтернатива салонів - магазинів .']</td>\n",
       "      <td>[['Хороша', 'альтернатива', 'салонів', '-', 'м...</td>\n",
       "      <td>[['ADJF', 'NOUN', 'NOUN', 'PNCT', 'NOUN', 'PNC...</td>\n",
       "      <td>[['хороший', 'альтернатива', 'салон', '-', 'ма...</td>\n",
       "      <td>[False]</td>\n",
       "    </tr>\n",
       "  </tbody>\n",
       "</table>\n",
       "</div>"
      ],
      "text/plain": [
       "                                         review  \\\n",
       "6794  Хороша альтернатива салонів -магазинів.\\n   \n",
       "\n",
       "                               review_translate  rating entity_name  \\\n",
       "6794  Хороша альтернатива салонів - магазинів .     5.0   251887991   \n",
       "\n",
       "     dataset_name title_translate  translated  \\\n",
       "6794      rozetka             NaN       False   \n",
       "\n",
       "                         review_translate_sentences  \\\n",
       "6794  ['Хороша альтернатива салонів - магазинів .']   \n",
       "\n",
       "                      review_translate_sentences_tokens  \\\n",
       "6794  [['Хороша', 'альтернатива', 'салонів', '-', 'м...   \n",
       "\n",
       "                         review_translate_sentences_pos  \\\n",
       "6794  [['ADJF', 'NOUN', 'NOUN', 'PNCT', 'NOUN', 'PNC...   \n",
       "\n",
       "                       review_translate_sentences_lemma is_question  \n",
       "6794  [['хороший', 'альтернатива', 'салон', '-', 'ма...     [False]  "
      ]
     },
     "execution_count": 10,
     "metadata": {},
     "output_type": "execute_result"
    }
   ],
   "source": [
    "df[(df.review.apply(lambda x: len(x.split(' ')))==4)].sample()"
   ]
  },
  {
   "cell_type": "code",
   "execution_count": 11,
   "id": "7977e38d-962a-4883-84f0-e677900f6013",
   "metadata": {},
   "outputs": [
    {
     "data": {
      "text/plain": [
       "(107234, 12)"
      ]
     },
     "execution_count": 11,
     "metadata": {},
     "output_type": "execute_result"
    }
   ],
   "source": [
    "df = df[df.review.apply(lambda x: len(x.split(' ')))>3]\n",
    "df.shape"
   ]
  },
  {
   "cell_type": "code",
   "execution_count": 12,
   "id": "c1411aef-0b53-4f8a-81a3-35cab12bd82d",
   "metadata": {},
   "outputs": [
    {
     "data": {
      "text/plain": [
       "(106655, 12)"
      ]
     },
     "execution_count": 12,
     "metadata": {},
     "output_type": "execute_result"
    }
   ],
   "source": [
    "df = df[df.review_translate.apply(lambda x: len(x.split(' ')))<230] # get this number as average of IMBD reviews dataset\n",
    "df.shape"
   ]
  },
  {
   "cell_type": "code",
   "execution_count": 13,
   "id": "c44abe8a-0c3f-40f8-89c8-19aaacbf1428",
   "metadata": {},
   "outputs": [
    {
     "data": {
      "text/plain": [
       "rating\n",
       "5.0    0.708349\n",
       "4.0    0.134349\n",
       "1.0    0.061272\n",
       "3.0    0.054184\n",
       "2.0    0.041845\n",
       "Name: proportion, dtype: float64"
      ]
     },
     "execution_count": 13,
     "metadata": {},
     "output_type": "execute_result"
    }
   ],
   "source": [
    "df.rating.value_counts(True)"
   ]
  },
  {
   "cell_type": "code",
   "execution_count": 14,
   "id": "0349e486-6c0c-4694-a699-11691dc69e39",
   "metadata": {},
   "outputs": [
    {
     "data": {
      "text/html": [
       "<div>\n",
       "<style scoped>\n",
       "    .dataframe tbody tr th:only-of-type {\n",
       "        vertical-align: middle;\n",
       "    }\n",
       "\n",
       "    .dataframe tbody tr th {\n",
       "        vertical-align: top;\n",
       "    }\n",
       "\n",
       "    .dataframe thead th {\n",
       "        text-align: right;\n",
       "    }\n",
       "</style>\n",
       "<table border=\"1\" class=\"dataframe\">\n",
       "  <thead>\n",
       "    <tr style=\"text-align: right;\">\n",
       "      <th></th>\n",
       "      <th>review</th>\n",
       "      <th>review_translate</th>\n",
       "      <th>rating</th>\n",
       "      <th>entity_name</th>\n",
       "      <th>dataset_name</th>\n",
       "      <th>title_translate</th>\n",
       "      <th>translated</th>\n",
       "      <th>review_translate_sentences</th>\n",
       "      <th>review_translate_sentences_tokens</th>\n",
       "      <th>review_translate_sentences_pos</th>\n",
       "      <th>review_translate_sentences_lemma</th>\n",
       "      <th>is_question</th>\n",
       "    </tr>\n",
       "  </thead>\n",
       "  <tbody>\n",
       "    <tr>\n",
       "      <th>47999</th>\n",
       "      <td>На двох ПК (два різних роутера) з віндовс 7 і ...</td>\n",
       "      <td>На двох ПК ( два різних роутера ) з віндовс 7 ...</td>\n",
       "      <td>1.0</td>\n",
       "      <td>asus_pce_ac51</td>\n",
       "      <td>rozetka</td>\n",
       "      <td>NaN</td>\n",
       "      <td>False</td>\n",
       "      <td>['На двох ПК ( два різних роутера ) з віндовс ...</td>\n",
       "      <td>[['На', 'двох', 'ПК', '(', 'два', 'різних', 'р...</td>\n",
       "      <td>[['INTJ', 'NUMR', 'NOUN', 'PNCT', 'NUMR', 'ADJ...</td>\n",
       "      <td>[['на', 'два', 'пк', '(', 'два', 'різний', 'ро...</td>\n",
       "      <td>[False, False, False, False, False, False]</td>\n",
       "    </tr>\n",
       "    <tr>\n",
       "      <th>88427</th>\n",
       "      <td>Брали іграшку для своє дитини.Відразу був інте...</td>\n",
       "      <td>Брали іграшку для своє дитини . Відразу був ін...</td>\n",
       "      <td>5.0</td>\n",
       "      <td>mommy_love_4812501160888</td>\n",
       "      <td>rozetka</td>\n",
       "      <td>NaN</td>\n",
       "      <td>False</td>\n",
       "      <td>['Брали іграшку для своє дитини .', 'Відразу б...</td>\n",
       "      <td>[['Брали', 'іграшку', 'для', 'своє', 'дитини',...</td>\n",
       "      <td>[['VERB', 'NOUN', 'PREP', 'NPRO', 'NOUN', 'PNC...</td>\n",
       "      <td>[['брати', 'іграшка', 'для', 'свій', 'дитина',...</td>\n",
       "      <td>[False, False, False, False]</td>\n",
       "    </tr>\n",
       "    <tr>\n",
       "      <th>34353</th>\n",
       "      <td>Як завжди сервісом \"Розетки\" задоволена, все о...</td>\n",
       "      <td>Як завжди сервісом \" Розетки \" задоволена , вс...</td>\n",
       "      <td>5.0</td>\n",
       "      <td>rztk_sm_752a</td>\n",
       "      <td>rozetka</td>\n",
       "      <td>NaN</td>\n",
       "      <td>False</td>\n",
       "      <td>['Як завжди сервісом \" Розетки \" задоволена , ...</td>\n",
       "      <td>[['Як', 'завжди', 'сервісом', '\"', 'Розетки', ...</td>\n",
       "      <td>[['PRCL', 'NPRO', 'NOUN', 'PNCT', 'NOUN', 'PNC...</td>\n",
       "      <td>[['як', 'завжди', 'сервіс', '\"', 'розетка', '\"...</td>\n",
       "      <td>[False]</td>\n",
       "    </tr>\n",
       "    <tr>\n",
       "      <th>85193</th>\n",
       "      <td>Купив 11.11.22!\\nЗагальне враження не погані! ...</td>\n",
       "      <td>Купив 11 . 11 . 22 ! Загальне враження не пога...</td>\n",
       "      <td>5.0</td>\n",
       "      <td>smart-casy-huawei-band-7</td>\n",
       "      <td>rozetka</td>\n",
       "      <td>NaN</td>\n",
       "      <td>False</td>\n",
       "      <td>['Купив 11 .', '11 .', '22 !', 'Загальне враже...</td>\n",
       "      <td>[['Купив', '11', '.'], ['11', '.'], ['22', '!'...</td>\n",
       "      <td>[['VERB', 'NUMB', 'PNCT'], ['NUMB', 'PNCT'], [...</td>\n",
       "      <td>[['купити', '11', '.'], ['11', '.'], ['22', '!...</td>\n",
       "      <td>[False, False, False, False, False, False, Fal...</td>\n",
       "    </tr>\n",
       "    <tr>\n",
       "      <th>72964</th>\n",
       "      <td>Взагалі вже користуюсь шуріком пів року, є нью...</td>\n",
       "      <td>Взагалі вже користуюсь шуріком пів року , є нь...</td>\n",
       "      <td>4.0</td>\n",
       "      <td>texac_ta_01_160</td>\n",
       "      <td>rozetka</td>\n",
       "      <td>NaN</td>\n",
       "      <td>False</td>\n",
       "      <td>['Взагалі вже користуюсь шуріком пів року , є ...</td>\n",
       "      <td>[['Взагалі', 'вже', 'користуюсь', 'шуріком', '...</td>\n",
       "      <td>[['ADVB', 'ADVB', 'VERB', 'NOUN', 'NOUN', 'NOU...</td>\n",
       "      <td>[['взагалі', 'вже', 'користуватися', 'шурікома...</td>\n",
       "      <td>[False]</td>\n",
       "    </tr>\n",
       "    <tr>\n",
       "      <th>102461</th>\n",
       "      <td>Акумулятори якісні як для такої цінової катего...</td>\n",
       "      <td>Акумулятори якісні як для такої цінової категорії</td>\n",
       "      <td>5.0</td>\n",
       "      <td>esperanza_eza102h</td>\n",
       "      <td>rozetka</td>\n",
       "      <td>NaN</td>\n",
       "      <td>False</td>\n",
       "      <td>['Акумулятори якісні як для такої цінової кате...</td>\n",
       "      <td>[['Акумулятори', 'якісні', 'як', 'для', 'такої...</td>\n",
       "      <td>[['NOUN', 'ADJF', 'PRCL', 'PREP', 'NPRO', 'ADJ...</td>\n",
       "      <td>[['акумулятор', 'якісний', 'як', 'для', 'такий...</td>\n",
       "      <td>[False]</td>\n",
       "    </tr>\n",
       "    <tr>\n",
       "      <th>39096</th>\n",
       "      <td>Замовив. Прилад прийшов гарно запакований, з п...</td>\n",
       "      <td>Замовив . Прилад прийшов гарно запакований , з...</td>\n",
       "      <td>5.0</td>\n",
       "      <td>222330367</td>\n",
       "      <td>rozetka</td>\n",
       "      <td>NaN</td>\n",
       "      <td>False</td>\n",
       "      <td>['Замовив .', 'Прилад прийшов гарно запаковани...</td>\n",
       "      <td>[['Замовив', '.'], ['Прилад', 'прийшов', 'гарн...</td>\n",
       "      <td>[['VERB', 'PNCT'], ['NOUN', 'VERB', 'ADVB', 'A...</td>\n",
       "      <td>[['замовити', '.'], ['прилад', 'прийти', 'гарн...</td>\n",
       "      <td>[False, False, False, False, False]</td>\n",
       "    </tr>\n",
       "    <tr>\n",
       "      <th>26073</th>\n",
       "      <td>А буде скидка на 11.11,20?\\n</td>\n",
       "      <td>А буде скидка на 11 . 11 , 20 ?</td>\n",
       "      <td>5.0</td>\n",
       "      <td>ergo_kb_910</td>\n",
       "      <td>rozetka</td>\n",
       "      <td>NaN</td>\n",
       "      <td>False</td>\n",
       "      <td>['А буде скидка на 11 .', '11 , 20 ?']</td>\n",
       "      <td>[['А', 'буде', 'скидка', 'на', '11', '.'], ['1...</td>\n",
       "      <td>[['CONJ', 'VERB', 'NOUN', 'INTJ', 'NUMB', 'PNC...</td>\n",
       "      <td>[['а', 'бути', 'скидка', 'на', '11', '.'], ['1...</td>\n",
       "      <td>[False, False]</td>\n",
       "    </tr>\n",
       "    <tr>\n",
       "      <th>35689</th>\n",
       "      <td>Пристойно качає, покупкою задоволений..\\n</td>\n",
       "      <td>Пристойно качає , покупкою задоволений . .</td>\n",
       "      <td>5.0</td>\n",
       "      <td>storm_20320</td>\n",
       "      <td>rozetka</td>\n",
       "      <td>NaN</td>\n",
       "      <td>False</td>\n",
       "      <td>['Пристойно качає , покупкою задоволений .', '.']</td>\n",
       "      <td>[['Пристойно', 'качає', ',', 'покупкою', 'задо...</td>\n",
       "      <td>[['ADVB', 'VERB', 'PNCT', 'NOUN', 'ADJF', 'PNC...</td>\n",
       "      <td>[['пристойно', 'качати', ',', 'покупка', 'задо...</td>\n",
       "      <td>[False, False]</td>\n",
       "    </tr>\n",
       "    <tr>\n",
       "      <th>42701</th>\n",
       "      <td>Доброго дня. Чи можна такий картридж ставити в...</td>\n",
       "      <td>Доброго дня . Чи можна такий картридж ставити ...</td>\n",
       "      <td>5.0</td>\n",
       "      <td>svod_svod_as_s250_f5</td>\n",
       "      <td>rozetka</td>\n",
       "      <td>NaN</td>\n",
       "      <td>False</td>\n",
       "      <td>['Доброго дня .', 'Чи можна такий картридж ста...</td>\n",
       "      <td>[['Доброго', 'дня', '.'], ['Чи', 'можна', 'так...</td>\n",
       "      <td>[['ADJF', 'NOUN', 'PNCT'], ['PRCL', 'PRED', 'N...</td>\n",
       "      <td>[['добрий', 'день', '.'], ['чи', 'можна', 'так...</td>\n",
       "      <td>[False, False, False]</td>\n",
       "    </tr>\n",
       "  </tbody>\n",
       "</table>\n",
       "</div>"
      ],
      "text/plain": [
       "                                                   review  \\\n",
       "47999   На двох ПК (два різних роутера) з віндовс 7 і ...   \n",
       "88427   Брали іграшку для своє дитини.Відразу був інте...   \n",
       "34353   Як завжди сервісом \"Розетки\" задоволена, все о...   \n",
       "85193   Купив 11.11.22!\\nЗагальне враження не погані! ...   \n",
       "72964   Взагалі вже користуюсь шуріком пів року, є нью...   \n",
       "102461  Акумулятори якісні як для такої цінової катего...   \n",
       "39096   Замовив. Прилад прийшов гарно запакований, з п...   \n",
       "26073                        А буде скидка на 11.11,20?\\n   \n",
       "35689           Пристойно качає, покупкою задоволений..\\n   \n",
       "42701   Доброго дня. Чи можна такий картридж ставити в...   \n",
       "\n",
       "                                         review_translate  rating  \\\n",
       "47999   На двох ПК ( два різних роутера ) з віндовс 7 ...     1.0   \n",
       "88427   Брали іграшку для своє дитини . Відразу був ін...     5.0   \n",
       "34353   Як завжди сервісом \" Розетки \" задоволена , вс...     5.0   \n",
       "85193   Купив 11 . 11 . 22 ! Загальне враження не пога...     5.0   \n",
       "72964   Взагалі вже користуюсь шуріком пів року , є нь...     4.0   \n",
       "102461  Акумулятори якісні як для такої цінової категорії     5.0   \n",
       "39096   Замовив . Прилад прийшов гарно запакований , з...     5.0   \n",
       "26073                     А буде скидка на 11 . 11 , 20 ?     5.0   \n",
       "35689          Пристойно качає , покупкою задоволений . .     5.0   \n",
       "42701   Доброго дня . Чи можна такий картридж ставити ...     5.0   \n",
       "\n",
       "                     entity_name dataset_name title_translate  translated  \\\n",
       "47999              asus_pce_ac51      rozetka             NaN       False   \n",
       "88427   mommy_love_4812501160888      rozetka             NaN       False   \n",
       "34353               rztk_sm_752a      rozetka             NaN       False   \n",
       "85193   smart-casy-huawei-band-7      rozetka             NaN       False   \n",
       "72964            texac_ta_01_160      rozetka             NaN       False   \n",
       "102461         esperanza_eza102h      rozetka             NaN       False   \n",
       "39096                  222330367      rozetka             NaN       False   \n",
       "26073                ergo_kb_910      rozetka             NaN       False   \n",
       "35689                storm_20320      rozetka             NaN       False   \n",
       "42701       svod_svod_as_s250_f5      rozetka             NaN       False   \n",
       "\n",
       "                               review_translate_sentences  \\\n",
       "47999   ['На двох ПК ( два різних роутера ) з віндовс ...   \n",
       "88427   ['Брали іграшку для своє дитини .', 'Відразу б...   \n",
       "34353   ['Як завжди сервісом \" Розетки \" задоволена , ...   \n",
       "85193   ['Купив 11 .', '11 .', '22 !', 'Загальне враже...   \n",
       "72964   ['Взагалі вже користуюсь шуріком пів року , є ...   \n",
       "102461  ['Акумулятори якісні як для такої цінової кате...   \n",
       "39096   ['Замовив .', 'Прилад прийшов гарно запаковани...   \n",
       "26073              ['А буде скидка на 11 .', '11 , 20 ?']   \n",
       "35689   ['Пристойно качає , покупкою задоволений .', '.']   \n",
       "42701   ['Доброго дня .', 'Чи можна такий картридж ста...   \n",
       "\n",
       "                        review_translate_sentences_tokens  \\\n",
       "47999   [['На', 'двох', 'ПК', '(', 'два', 'різних', 'р...   \n",
       "88427   [['Брали', 'іграшку', 'для', 'своє', 'дитини',...   \n",
       "34353   [['Як', 'завжди', 'сервісом', '\"', 'Розетки', ...   \n",
       "85193   [['Купив', '11', '.'], ['11', '.'], ['22', '!'...   \n",
       "72964   [['Взагалі', 'вже', 'користуюсь', 'шуріком', '...   \n",
       "102461  [['Акумулятори', 'якісні', 'як', 'для', 'такої...   \n",
       "39096   [['Замовив', '.'], ['Прилад', 'прийшов', 'гарн...   \n",
       "26073   [['А', 'буде', 'скидка', 'на', '11', '.'], ['1...   \n",
       "35689   [['Пристойно', 'качає', ',', 'покупкою', 'задо...   \n",
       "42701   [['Доброго', 'дня', '.'], ['Чи', 'можна', 'так...   \n",
       "\n",
       "                           review_translate_sentences_pos  \\\n",
       "47999   [['INTJ', 'NUMR', 'NOUN', 'PNCT', 'NUMR', 'ADJ...   \n",
       "88427   [['VERB', 'NOUN', 'PREP', 'NPRO', 'NOUN', 'PNC...   \n",
       "34353   [['PRCL', 'NPRO', 'NOUN', 'PNCT', 'NOUN', 'PNC...   \n",
       "85193   [['VERB', 'NUMB', 'PNCT'], ['NUMB', 'PNCT'], [...   \n",
       "72964   [['ADVB', 'ADVB', 'VERB', 'NOUN', 'NOUN', 'NOU...   \n",
       "102461  [['NOUN', 'ADJF', 'PRCL', 'PREP', 'NPRO', 'ADJ...   \n",
       "39096   [['VERB', 'PNCT'], ['NOUN', 'VERB', 'ADVB', 'A...   \n",
       "26073   [['CONJ', 'VERB', 'NOUN', 'INTJ', 'NUMB', 'PNC...   \n",
       "35689   [['ADVB', 'VERB', 'PNCT', 'NOUN', 'ADJF', 'PNC...   \n",
       "42701   [['ADJF', 'NOUN', 'PNCT'], ['PRCL', 'PRED', 'N...   \n",
       "\n",
       "                         review_translate_sentences_lemma  \\\n",
       "47999   [['на', 'два', 'пк', '(', 'два', 'різний', 'ро...   \n",
       "88427   [['брати', 'іграшка', 'для', 'свій', 'дитина',...   \n",
       "34353   [['як', 'завжди', 'сервіс', '\"', 'розетка', '\"...   \n",
       "85193   [['купити', '11', '.'], ['11', '.'], ['22', '!...   \n",
       "72964   [['взагалі', 'вже', 'користуватися', 'шурікома...   \n",
       "102461  [['акумулятор', 'якісний', 'як', 'для', 'такий...   \n",
       "39096   [['замовити', '.'], ['прилад', 'прийти', 'гарн...   \n",
       "26073   [['а', 'бути', 'скидка', 'на', '11', '.'], ['1...   \n",
       "35689   [['пристойно', 'качати', ',', 'покупка', 'задо...   \n",
       "42701   [['добрий', 'день', '.'], ['чи', 'можна', 'так...   \n",
       "\n",
       "                                              is_question  \n",
       "47999          [False, False, False, False, False, False]  \n",
       "88427                        [False, False, False, False]  \n",
       "34353                                             [False]  \n",
       "85193   [False, False, False, False, False, False, Fal...  \n",
       "72964                                             [False]  \n",
       "102461                                            [False]  \n",
       "39096                 [False, False, False, False, False]  \n",
       "26073                                      [False, False]  \n",
       "35689                                      [False, False]  \n",
       "42701                               [False, False, False]  "
      ]
     },
     "execution_count": 14,
     "metadata": {},
     "output_type": "execute_result"
    }
   ],
   "source": [
    "df.sample(10)"
   ]
  },
  {
   "cell_type": "code",
   "execution_count": 15,
   "id": "500bf64e",
   "metadata": {},
   "outputs": [
    {
     "data": {
      "text/plain": [
       "(97684, 12)"
      ]
     },
     "execution_count": 15,
     "metadata": {},
     "output_type": "execute_result"
    }
   ],
   "source": [
    "df['review'] = df['review'].str.replace('\\n', ' ', regex=False)\n",
    "df.drop_duplicates(inplace=True)\n",
    "df['rating'] = df.rating.astype('int')\n",
    "df.shape"
   ]
  },
  {
   "cell_type": "code",
   "execution_count": 16,
   "id": "790c3073-315b-4551-83bb-11d98937316e",
   "metadata": {},
   "outputs": [
    {
     "data": {
      "text/plain": [
       "array(['Добрий день! Купляла навушники близько трьох місяців тому. Звуком задоволена, але перестав працювати лівий навушник. Маю коробку і гарантійний талон. Допоможіть будь ласка ',\n",
       "       \"Купив два таких диска, з різницею покупки в один місяць. На першому диску контролер: Phison PS3111, пам'ять: Toshiba 15nm MLC 16k 256Gb/CE 128Gb На другому: MAXIO MAS0902, пам'ять: Intel 64L(B16A) TLC 256Gb/CE 256Gb/die Така собі солянка з різних комплектуючих. \",\n",
       "       'Ще не знаю за якість. Дуже довіряв розетці... Але справді якщо Ви відправляєте в \"Еко\" упаковці то поставте відповідне фото товару. ',\n",
       "       'Кава виходить нормальна на смак, але це неможливо зробити автоматично в цій обрізаній 300-моделі — вирізали функцію регулювання кількості молока та кави. Програми за замовчанням ллють багато води і я таке пити не можу, тому приходиться робити каву у два заходи, спочатку робити сильний еспрессо, а потім додавати молочну піну. Хто п’є напої з молоком, тому кожного разу треба робити чищення молочної системи — це п’ять додаткових тиків пальцем по меню кожного разу. П’ять. Чому не один? Банка для молока в комплекті не має сенсу, користуватися нею жахливо. Зручно — це просто вставити трубку в пачку з молоком. Передню панель, та кришку капучинатора не можна мити в посудомийці, а це самі брудні деталі після контейнеру. Їх треба терти руками. В кавоварці за $700. Як тут багато вже написало людей, замість таблетки для чищення від жирів можна використовувати чайну ложку порошку для посудомийки. Знайомий з сервісного центру Сіменс підтвердив, що різниці не буде ніякої. ',\n",
       "       'нз как это чинить ',\n",
       "       'Купувався спонтанно/швидко, ціна/якість норм, з поставленою задачею порізати 12мм фанерний лист полотном, що йшло в комплекті, справився. Питання по типу полотен, в інструкції піктограма U-полотна чомусь перекреслена, а в комплекті лежало саме таке. ',\n",
       "       'Брав два роки тому, сам шурупокрут ТехАС ТА-01-159 працює, а от батареї тут як в лотереї одному приходить на 1.5 Аг, другому на 2Аг, хоча написано що на 2Аг.В оного працює довго в другого ні. ',\n",
       "       'Шукала блекаут сірого кольору. І дійсно ролети красиві. Але за 3 місяці механізми погано тримають ролети на потрібній висоті. Якщо повісити і не підіймати, не опускати, мабуть такої проблеми не буде. І деінде почали торчали нитки. ',\n",
       "       'Досить не поганий годинник. Зовсім бузшумний хід. Малюнок не чіткий. ',\n",
       "       'Для мене кава трохи пересмажина. '], dtype=object)"
      ]
     },
     "execution_count": 16,
     "metadata": {},
     "output_type": "execute_result"
    }
   ],
   "source": [
    "df[df.rating == 3].sample(10)['review'].values"
   ]
  },
  {
   "cell_type": "code",
   "execution_count": 17,
   "id": "1e0458e7-2dba-4e04-9b3e-701ba3b3dbda",
   "metadata": {},
   "outputs": [
    {
     "data": {
      "text/plain": [
       "Index(['review', 'review_translate', 'rating', 'entity_name', 'dataset_name',\n",
       "       'title_translate', 'translated', 'review_translate_sentences',\n",
       "       'review_translate_sentences_tokens', 'review_translate_sentences_pos',\n",
       "       'review_translate_sentences_lemma', 'is_question'],\n",
       "      dtype='object')"
      ]
     },
     "execution_count": 17,
     "metadata": {},
     "output_type": "execute_result"
    }
   ],
   "source": [
    "df.columns"
   ]
  },
  {
   "cell_type": "code",
   "execution_count": 18,
   "id": "0c035a15",
   "metadata": {},
   "outputs": [
    {
     "data": {
      "text/plain": [
       "dataset_name\n",
       "rozetka                            96023\n",
       "tripadvisor_restaurants_ukraine     1287\n",
       "tripadvisor_hotels_ukraine           374\n",
       "Name: count, dtype: int64"
      ]
     },
     "execution_count": 18,
     "metadata": {},
     "output_type": "execute_result"
    }
   ],
   "source": [
    "df.dataset_name.value_counts()"
   ]
  },
  {
   "cell_type": "code",
   "execution_count": 19,
   "id": "6449341b",
   "metadata": {},
   "outputs": [
    {
     "data": {
      "text/plain": [
       "rating\n",
       "5    0.709164\n",
       "4    0.133451\n",
       "1    0.061269\n",
       "3    0.054042\n",
       "2    0.042074\n",
       "Name: proportion, dtype: float64"
      ]
     },
     "execution_count": 19,
     "metadata": {},
     "output_type": "execute_result"
    }
   ],
   "source": [
    "df.rating.value_counts(True)"
   ]
  },
  {
   "cell_type": "code",
   "execution_count": 21,
   "id": "44e650a7-643e-4c5e-b9ef-9080ce3bcb1b",
   "metadata": {},
   "outputs": [
    {
     "data": {
      "text/plain": [
       "((78146, 12), (9769, 12), (9769, 12))"
      ]
     },
     "execution_count": 21,
     "metadata": {},
     "output_type": "execute_result"
    }
   ],
   "source": [
    "\n",
    "train_ratio = 0.8\n",
    "eval_ratio = 0.1\n",
    "test_ratio = 0.1\n",
    "\n",
    "train_eval_df, test_df = train_test_split(df,\n",
    "                                          test_size=test_ratio,\n",
    "                                          stratify=df[['dataset_name', 'rating']],\n",
    "                                          random_state=42)\n",
    "\n",
    "train_df, eval_df = train_test_split(train_eval_df,\n",
    "                                     test_size=eval_ratio / (train_ratio + eval_ratio),  # Adjust to maintain overall ratio\n",
    "                                     stratify=train_eval_df[['dataset_name', 'rating']],\n",
    "                                     random_state=42)\n",
    "\n",
    "train_df.shape, test_df.shape, eval_df.shape"
   ]
  },
  {
   "cell_type": "code",
   "execution_count": 22,
   "id": "44b190b9-11a6-4160-b6da-d1d6dae59369",
   "metadata": {},
   "outputs": [],
   "source": [
    "train_df = train_df[['review', 'rating']]\n",
    "train_df.columns = ['text', 'label']\n",
    "\n",
    "test_df = test_df[['review', 'rating']]\n",
    "test_df.columns = ['text', 'label']\n",
    "\n",
    "eval_df = eval_df[['review', 'rating']]\n",
    "eval_df.columns = ['text', 'label']"
   ]
  },
  {
   "cell_type": "code",
   "execution_count": 23,
   "id": "6682478a-3485-4bc3-ad1f-1cdcf1715ae2",
   "metadata": {},
   "outputs": [],
   "source": [
    "train_df.to_csv('cross_domain_uk_reviews/train_reviews.csv', index = False)\n",
    "test_df.to_csv('cross_domain_uk_reviews/test_reviews.csv', index = False)\n",
    "eval_df.to_csv('cross_domain_uk_reviews/eval_reviews.csv', index = False)"
   ]
  },
  {
   "cell_type": "code",
   "execution_count": 24,
   "id": "78d45714",
   "metadata": {},
   "outputs": [
    {
     "data": {
      "text/plain": [
       "4"
      ]
     },
     "execution_count": 24,
     "metadata": {},
     "output_type": "execute_result"
    }
   ],
   "source": [
    "2+2"
   ]
  },
  {
   "cell_type": "code",
   "execution_count": null,
   "id": "7284596b",
   "metadata": {},
   "outputs": [],
   "source": []
  },
  {
   "cell_type": "code",
   "execution_count": null,
   "id": "c90270e1",
   "metadata": {},
   "outputs": [],
   "source": []
  }
 ],
 "metadata": {
  "kernelspec": {
   "display_name": "syn_subs_env",
   "language": "python",
   "name": "python3"
  },
  "language_info": {
   "codemirror_mode": {
    "name": "ipython",
    "version": 3
   },
   "file_extension": ".py",
   "mimetype": "text/x-python",
   "name": "python",
   "nbconvert_exporter": "python",
   "pygments_lexer": "ipython3",
   "version": "3.10.12"
  }
 },
 "nbformat": 4,
 "nbformat_minor": 5
}
