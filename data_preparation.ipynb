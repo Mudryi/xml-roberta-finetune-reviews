{
 "cells": [
  {
   "cell_type": "code",
   "execution_count": 48,
   "id": "bf3f6181-4d95-4d83-91ba-fbc58fe53412",
   "metadata": {},
   "outputs": [],
   "source": [
    "import pandas as pd"
   ]
  },
  {
   "cell_type": "code",
   "execution_count": 49,
   "id": "7cfc2b8a-2943-427d-8d45-0641c4dae185",
   "metadata": {},
   "outputs": [
    {
     "name": "stderr",
     "output_type": "stream",
     "text": [
      "/var/folders/gk/c26jypyj5tn41t56s5y94pfw0000gn/T/ipykernel_17001/535537741.py:1: DtypeWarning: Columns (5) have mixed types. Specify dtype option on import or set low_memory=False.\n",
      "  df = pd.read_csv(\"processed_data.csv\")\n"
     ]
    }
   ],
   "source": [
    "df = pd.read_csv(\"processed_data.csv\")"
   ]
  },
  {
   "cell_type": "code",
   "execution_count": 50,
   "id": "70aebb8c-0cf0-479f-9ded-2db022874024",
   "metadata": {},
   "outputs": [
    {
     "data": {
      "text/plain": [
       "(662907, 12)"
      ]
     },
     "execution_count": 50,
     "metadata": {},
     "output_type": "execute_result"
    }
   ],
   "source": [
    "df.shape"
   ]
  },
  {
   "cell_type": "code",
   "execution_count": 51,
   "id": "ec686922-cb67-4fad-a6f2-c7628ac976e4",
   "metadata": {},
   "outputs": [
    {
     "data": {
      "text/plain": [
       "rating\n",
       "5.0    0.653556\n",
       "4.0    0.162979\n",
       "3.0    0.071331\n",
       "1.0    0.065602\n",
       "2.0    0.046531\n",
       "Name: proportion, dtype: float64"
      ]
     },
     "execution_count": 51,
     "metadata": {},
     "output_type": "execute_result"
    }
   ],
   "source": [
    "df.rating.value_counts(True)"
   ]
  },
  {
   "cell_type": "code",
   "execution_count": 52,
   "id": "8f488ddf-c3d8-4102-8b62-84b9397a6e58",
   "metadata": {},
   "outputs": [
    {
     "data": {
      "text/plain": [
       "count    662907.000000\n",
       "mean         49.154393\n",
       "std          61.929388\n",
       "min           1.000000\n",
       "25%          15.000000\n",
       "50%          31.000000\n",
       "75%          59.000000\n",
       "max        1996.000000\n",
       "Name: review_translate, dtype: float64"
      ]
     },
     "execution_count": 52,
     "metadata": {},
     "output_type": "execute_result"
    }
   ],
   "source": [
    "df.review_translate.apply(lambda x: len(x.split(' '))).describe()"
   ]
  },
  {
   "cell_type": "code",
   "execution_count": 53,
   "id": "7977e38d-962a-4883-84f0-e677900f6013",
   "metadata": {},
   "outputs": [],
   "source": [
    "df = df[df.review_translate.apply(lambda x: len(x.split(' ')))>9]"
   ]
  },
  {
   "cell_type": "code",
   "execution_count": 54,
   "id": "49d9ed16-b790-4bb9-98e5-3c72a9b9a040",
   "metadata": {},
   "outputs": [
    {
     "data": {
      "text/plain": [
       "(556087, 12)"
      ]
     },
     "execution_count": 54,
     "metadata": {},
     "output_type": "execute_result"
    }
   ],
   "source": [
    "df.shape"
   ]
  },
  {
   "cell_type": "code",
   "execution_count": 55,
   "id": "0bb3d9bb-b73b-404f-bb58-eda8e3d951a7",
   "metadata": {},
   "outputs": [
    {
     "data": {
      "text/plain": [
       "rating\n",
       "5.0    0.626665\n",
       "4.0    0.171563\n",
       "3.0    0.078810\n",
       "1.0    0.071386\n",
       "2.0    0.051576\n",
       "Name: proportion, dtype: float64"
      ]
     },
     "execution_count": 55,
     "metadata": {},
     "output_type": "execute_result"
    }
   ],
   "source": [
    "df.rating.value_counts(True)"
   ]
  },
  {
   "cell_type": "code",
   "execution_count": 56,
   "id": "c1411aef-0b53-4f8a-81a3-35cab12bd82d",
   "metadata": {},
   "outputs": [],
   "source": [
    "df = df[df.review_translate.apply(lambda x: len(x.split(' ')))<500]"
   ]
  },
  {
   "cell_type": "code",
   "execution_count": 57,
   "id": "7470395d-9d3e-4d8c-a550-468fce73ea7c",
   "metadata": {},
   "outputs": [
    {
     "data": {
      "text/plain": [
       "(554657, 12)"
      ]
     },
     "execution_count": 57,
     "metadata": {},
     "output_type": "execute_result"
    }
   ],
   "source": [
    "df.shape"
   ]
  },
  {
   "cell_type": "code",
   "execution_count": 58,
   "id": "c44abe8a-0c3f-40f8-89c8-19aaacbf1428",
   "metadata": {},
   "outputs": [
    {
     "data": {
      "text/plain": [
       "rating\n",
       "5.0    0.627555\n",
       "4.0    0.171517\n",
       "3.0    0.078564\n",
       "1.0    0.071040\n",
       "2.0    0.051324\n",
       "Name: proportion, dtype: float64"
      ]
     },
     "execution_count": 58,
     "metadata": {},
     "output_type": "execute_result"
    }
   ],
   "source": [
    "df.rating.value_counts(True)"
   ]
  },
  {
   "cell_type": "code",
   "execution_count": 59,
   "id": "9429cc27-8ba9-440c-ad2b-fc7a07d8b59d",
   "metadata": {},
   "outputs": [
    {
     "data": {
      "text/plain": [
       "count    554657.000000\n",
       "mean         55.998687\n",
       "std          55.628764\n",
       "min          10.000000\n",
       "25%          22.000000\n",
       "50%          38.000000\n",
       "75%          67.000000\n",
       "max         499.000000\n",
       "Name: review_translate, dtype: float64"
      ]
     },
     "execution_count": 59,
     "metadata": {},
     "output_type": "execute_result"
    }
   ],
   "source": [
    "df.review_translate.apply(lambda x: len(x.split(' '))).describe()"
   ]
  },
  {
   "cell_type": "code",
   "execution_count": 60,
   "id": "0349e486-6c0c-4694-a699-11691dc69e39",
   "metadata": {},
   "outputs": [
    {
     "data": {
      "text/html": [
       "<div>\n",
       "<style scoped>\n",
       "    .dataframe tbody tr th:only-of-type {\n",
       "        vertical-align: middle;\n",
       "    }\n",
       "\n",
       "    .dataframe tbody tr th {\n",
       "        vertical-align: top;\n",
       "    }\n",
       "\n",
       "    .dataframe thead th {\n",
       "        text-align: right;\n",
       "    }\n",
       "</style>\n",
       "<table border=\"1\" class=\"dataframe\">\n",
       "  <thead>\n",
       "    <tr style=\"text-align: right;\">\n",
       "      <th></th>\n",
       "      <th>review</th>\n",
       "      <th>review_translate</th>\n",
       "      <th>rating</th>\n",
       "      <th>entity_name</th>\n",
       "      <th>dataset_name</th>\n",
       "      <th>title_translate</th>\n",
       "      <th>translated</th>\n",
       "      <th>review_translate_sentences</th>\n",
       "      <th>review_translate_sentences_tokens</th>\n",
       "      <th>review_translate_sentences_pos</th>\n",
       "      <th>review_translate_sentences_lemma</th>\n",
       "      <th>is_question</th>\n",
       "    </tr>\n",
       "  </thead>\n",
       "  <tbody>\n",
       "    <tr>\n",
       "      <th>263428</th>\n",
       "      <td>почитал коменты думал брать или не брать, взял...</td>\n",
       "      <td>Читала коментарі , які думала брати чи не брат...</td>\n",
       "      <td>5.0</td>\n",
       "      <td>gemix_w_360_black_blue</td>\n",
       "      <td>rozetka</td>\n",
       "      <td>NaN</td>\n",
       "      <td>True</td>\n",
       "      <td>['Читала коментарі , які думала брати чи не бр...</td>\n",
       "      <td>[['Читала', 'коментарі', ',', 'які', 'думала',...</td>\n",
       "      <td>[['VERB', 'NOUN', 'PNCT', 'NPRO', 'VERB', 'NOU...</td>\n",
       "      <td>[['читати', 'коментар', ',', 'який', 'думати',...</td>\n",
       "      <td>[False]</td>\n",
       "    </tr>\n",
       "    <tr>\n",
       "      <th>604051</th>\n",
       "      <td>Классная еда, красивое место, отличный сервис....</td>\n",
       "      <td>Класна їжа , гарне місце , чудовий сервіс . Се...</td>\n",
       "      <td>5.0</td>\n",
       "      <td>Restaurant_Review-g294474-d22219340-Reviews-Hl...</td>\n",
       "      <td>tripadvisor_restaurants_ukraine</td>\n",
       "      <td>Молодець, начальник.</td>\n",
       "      <td>True</td>\n",
       "      <td>['Класна їжа , гарне місце , чудовий сервіс .'...</td>\n",
       "      <td>[['Класна', 'їжа', ',', 'гарне', 'місце', ',',...</td>\n",
       "      <td>[['ADJF', 'NOUN', 'PNCT', 'ADJF', 'NOUN', 'PNC...</td>\n",
       "      <td>[['класний', 'їжа', ',', 'гарний', 'місце', ',...</td>\n",
       "      <td>[False, False, False, False]</td>\n",
       "    </tr>\n",
       "    <tr>\n",
       "      <th>337682</th>\n",
       "      <td>Покупали ребёнку на новый год. Любимая игрушка...</td>\n",
       "      <td>Купили дитину на новий рік . Улюблена іграшка ...</td>\n",
       "      <td>5.0</td>\n",
       "      <td>tehnok_4823037600915</td>\n",
       "      <td>rozetka</td>\n",
       "      <td>NaN</td>\n",
       "      <td>True</td>\n",
       "      <td>['Купили дитину на новий рік .', 'Улюблена ігр...</td>\n",
       "      <td>[['Купили', 'дитину', 'на', 'новий', 'рік', '....</td>\n",
       "      <td>[['VERB', 'NOUN', 'INTJ', 'ADJF', 'NOUN', 'PNC...</td>\n",
       "      <td>[['купити', 'дитина', 'на', 'новий', 'ріка', '...</td>\n",
       "      <td>[False, False, False, False]</td>\n",
       "    </tr>\n",
       "    <tr>\n",
       "      <th>559910</th>\n",
       "      <td>Приятное заведение, где можно вкусно поесть. К...</td>\n",
       "      <td>Гарне місце , де можна смачно поїсти . Кафе , ...</td>\n",
       "      <td>4.0</td>\n",
       "      <td>Restaurant_Review-g295368-d6202449-Reviews-Zal...</td>\n",
       "      <td>tripadvisor_restaurants_ukraine</td>\n",
       "      <td>Українська кухня</td>\n",
       "      <td>True</td>\n",
       "      <td>['Гарне місце , де можна смачно поїсти .', 'Ка...</td>\n",
       "      <td>[['Гарне', 'місце', ',', 'де', 'можна', 'смачн...</td>\n",
       "      <td>[['ADJF', 'NOUN', 'PNCT', 'PRCL', 'PRED', 'ADV...</td>\n",
       "      <td>[['гарний', 'місце', ',', 'де', 'можна', 'смач...</td>\n",
       "      <td>[False, False, False]</td>\n",
       "    </tr>\n",
       "    <tr>\n",
       "      <th>386713</th>\n",
       "      <td>Хороший пенал, покупали фиолетовый по выбору д...</td>\n",
       "      <td>Хороший пенал , куплений фіолетовим кольором з...</td>\n",
       "      <td>5.0</td>\n",
       "      <td>cool_for_school_4044572870889</td>\n",
       "      <td>rozetka</td>\n",
       "      <td>NaN</td>\n",
       "      <td>True</td>\n",
       "      <td>['Хороший пенал , куплений фіолетовим кольором...</td>\n",
       "      <td>[['Хороший', 'пенал', ',', 'куплений', 'фіолет...</td>\n",
       "      <td>[['ADJF', 'NOUN', 'PNCT', 'ADJF', 'ADJF', 'NOU...</td>\n",
       "      <td>[['хороший', 'пенал', ',', 'куплений', 'фіолет...</td>\n",
       "      <td>[False, False, False]</td>\n",
       "    </tr>\n",
       "    <tr>\n",
       "      <th>276556</th>\n",
       "      <td>Приобрела сыну для стрижки, хотя в принципе, в...</td>\n",
       "      <td>Купила синові на стрижку , хоча в принципі , в...</td>\n",
       "      <td>4.0</td>\n",
       "      <td>braun_mgk3220</td>\n",
       "      <td>rozetka</td>\n",
       "      <td>NaN</td>\n",
       "      <td>True</td>\n",
       "      <td>['Купила синові на стрижку , хоча в принципі ,...</td>\n",
       "      <td>[['Купила', 'синові', 'на', 'стрижку', ',', 'х...</td>\n",
       "      <td>[['VERB', 'ADJF', 'INTJ', 'NOUN', 'PNCT', 'PRC...</td>\n",
       "      <td>[['купити', 'синовий', 'на', 'стрижка', ',', '...</td>\n",
       "      <td>[False, False, False]</td>\n",
       "    </tr>\n",
       "    <tr>\n",
       "      <th>315442</th>\n",
       "      <td>Брала мужу на подарок. Все супер!</td>\n",
       "      <td>Я прийняла його чоловікові в подарунок . Все ч...</td>\n",
       "      <td>5.0</td>\n",
       "      <td>jack_daniels_5099873045855</td>\n",
       "      <td>rozetka</td>\n",
       "      <td>NaN</td>\n",
       "      <td>True</td>\n",
       "      <td>['Я прийняла його чоловікові в подарунок .', '...</td>\n",
       "      <td>[['Я', 'прийняла', 'його', 'чоловікові', 'в', ...</td>\n",
       "      <td>[['NPRO', 'VERB', 'NOUN', 'ADJF', 'PREP', 'NOU...</td>\n",
       "      <td>[['я', 'прийняти', 'йога', 'чоловіковий', 'в',...</td>\n",
       "      <td>[False, False]</td>\n",
       "    </tr>\n",
       "    <tr>\n",
       "      <th>496581</th>\n",
       "      <td>Arena center olarak ge?en yerin i?erisinde. Bu...</td>\n",
       "      <td>Це в тому місці , яке називається центром Арен...</td>\n",
       "      <td>5.0</td>\n",
       "      <td>Restaurant_Review-g294474-d6439723-Reviews-The...</td>\n",
       "      <td>tripadvisor_restaurants_ukraine</td>\n",
       "      <td>Супер бургери</td>\n",
       "      <td>True</td>\n",
       "      <td>['Це в тому місці , яке називається центром Ар...</td>\n",
       "      <td>[['Це', 'в', 'тому', 'місці', ',', 'яке', 'наз...</td>\n",
       "      <td>[['PRCL', 'PREP', 'NOUN', 'NOUN', 'PNCT', 'NPR...</td>\n",
       "      <td>[['це', 'в', 'том', 'місце', ',', 'який', 'наз...</td>\n",
       "      <td>[False, False, False, False, False, False]</td>\n",
       "    </tr>\n",
       "    <tr>\n",
       "      <th>591523</th>\n",
       "      <td>Были приятно удивлены, во-первых очень вкусным...</td>\n",
       "      <td>Нас приємно здивував , по - перше , дуже смачн...</td>\n",
       "      <td>5.0</td>\n",
       "      <td>Restaurant_Review-g295377-d12695429-Reviews-Va...</td>\n",
       "      <td>tripadvisor_restaurants_ukraine</td>\n",
       "      <td>чудовий сервіс та смачна їжа!</td>\n",
       "      <td>True</td>\n",
       "      <td>[\"Нас приємно здивував , по - перше , дуже сма...</td>\n",
       "      <td>[['Нас', 'приємно', 'здивував', ',', 'по', '-'...</td>\n",
       "      <td>[['NPRO', 'ADVB', 'VERB', 'PNCT', 'PREP', 'PNC...</td>\n",
       "      <td>[['ми', 'приємно', 'здивувати', ',', 'по', '-'...</td>\n",
       "      <td>[False, False, False, False, False, False]</td>\n",
       "    </tr>\n",
       "    <tr>\n",
       "      <th>152551</th>\n",
       "      <td>Уже не первый раз пользуемся подгузниками-трус...</td>\n",
       "      <td>Чи не вперше ми використовуємо пелюшки - труси...</td>\n",
       "      <td>5.0</td>\n",
       "      <td>libero_7322541092201</td>\n",
       "      <td>rozetka</td>\n",
       "      <td>NaN</td>\n",
       "      <td>True</td>\n",
       "      <td>['Чи не вперше ми використовуємо пелюшки - тру...</td>\n",
       "      <td>[['Чи', 'не', 'вперше', 'ми', 'використовуємо'...</td>\n",
       "      <td>[['PRCL', 'PRCL', 'ADVB', 'NPRO', 'VERB', 'NOU...</td>\n",
       "      <td>[['чи', 'не', 'вперше', 'ми', 'використовувати...</td>\n",
       "      <td>[False, False, False]</td>\n",
       "    </tr>\n",
       "  </tbody>\n",
       "</table>\n",
       "</div>"
      ],
      "text/plain": [
       "                                                   review  \\\n",
       "263428  почитал коменты думал брать или не брать, взял...   \n",
       "604051  Классная еда, красивое место, отличный сервис....   \n",
       "337682  Покупали ребёнку на новый год. Любимая игрушка...   \n",
       "559910  Приятное заведение, где можно вкусно поесть. К...   \n",
       "386713  Хороший пенал, покупали фиолетовый по выбору д...   \n",
       "276556  Приобрела сыну для стрижки, хотя в принципе, в...   \n",
       "315442                  Брала мужу на подарок. Все супер!   \n",
       "496581  Arena center olarak ge?en yerin i?erisinde. Bu...   \n",
       "591523  Были приятно удивлены, во-первых очень вкусным...   \n",
       "152551  Уже не первый раз пользуемся подгузниками-трус...   \n",
       "\n",
       "                                         review_translate  rating  \\\n",
       "263428  Читала коментарі , які думала брати чи не брат...     5.0   \n",
       "604051  Класна їжа , гарне місце , чудовий сервіс . Се...     5.0   \n",
       "337682  Купили дитину на новий рік . Улюблена іграшка ...     5.0   \n",
       "559910  Гарне місце , де можна смачно поїсти . Кафе , ...     4.0   \n",
       "386713  Хороший пенал , куплений фіолетовим кольором з...     5.0   \n",
       "276556  Купила синові на стрижку , хоча в принципі , в...     4.0   \n",
       "315442  Я прийняла його чоловікові в подарунок . Все ч...     5.0   \n",
       "496581  Це в тому місці , яке називається центром Арен...     5.0   \n",
       "591523  Нас приємно здивував , по - перше , дуже смачн...     5.0   \n",
       "152551  Чи не вперше ми використовуємо пелюшки - труси...     5.0   \n",
       "\n",
       "                                              entity_name  \\\n",
       "263428                             gemix_w_360_black_blue   \n",
       "604051  Restaurant_Review-g294474-d22219340-Reviews-Hl...   \n",
       "337682                               tehnok_4823037600915   \n",
       "559910  Restaurant_Review-g295368-d6202449-Reviews-Zal...   \n",
       "386713                      cool_for_school_4044572870889   \n",
       "276556                                      braun_mgk3220   \n",
       "315442                         jack_daniels_5099873045855   \n",
       "496581  Restaurant_Review-g294474-d6439723-Reviews-The...   \n",
       "591523  Restaurant_Review-g295377-d12695429-Reviews-Va...   \n",
       "152551                               libero_7322541092201   \n",
       "\n",
       "                           dataset_name                title_translate  \\\n",
       "263428                          rozetka                            NaN   \n",
       "604051  tripadvisor_restaurants_ukraine           Молодець, начальник.   \n",
       "337682                          rozetka                            NaN   \n",
       "559910  tripadvisor_restaurants_ukraine               Українська кухня   \n",
       "386713                          rozetka                            NaN   \n",
       "276556                          rozetka                            NaN   \n",
       "315442                          rozetka                            NaN   \n",
       "496581  tripadvisor_restaurants_ukraine                  Супер бургери   \n",
       "591523  tripadvisor_restaurants_ukraine  чудовий сервіс та смачна їжа!   \n",
       "152551                          rozetka                            NaN   \n",
       "\n",
       "        translated                         review_translate_sentences  \\\n",
       "263428        True  ['Читала коментарі , які думала брати чи не бр...   \n",
       "604051        True  ['Класна їжа , гарне місце , чудовий сервіс .'...   \n",
       "337682        True  ['Купили дитину на новий рік .', 'Улюблена ігр...   \n",
       "559910        True  ['Гарне місце , де можна смачно поїсти .', 'Ка...   \n",
       "386713        True  ['Хороший пенал , куплений фіолетовим кольором...   \n",
       "276556        True  ['Купила синові на стрижку , хоча в принципі ,...   \n",
       "315442        True  ['Я прийняла його чоловікові в подарунок .', '...   \n",
       "496581        True  ['Це в тому місці , яке називається центром Ар...   \n",
       "591523        True  [\"Нас приємно здивував , по - перше , дуже сма...   \n",
       "152551        True  ['Чи не вперше ми використовуємо пелюшки - тру...   \n",
       "\n",
       "                        review_translate_sentences_tokens  \\\n",
       "263428  [['Читала', 'коментарі', ',', 'які', 'думала',...   \n",
       "604051  [['Класна', 'їжа', ',', 'гарне', 'місце', ',',...   \n",
       "337682  [['Купили', 'дитину', 'на', 'новий', 'рік', '....   \n",
       "559910  [['Гарне', 'місце', ',', 'де', 'можна', 'смачн...   \n",
       "386713  [['Хороший', 'пенал', ',', 'куплений', 'фіолет...   \n",
       "276556  [['Купила', 'синові', 'на', 'стрижку', ',', 'х...   \n",
       "315442  [['Я', 'прийняла', 'його', 'чоловікові', 'в', ...   \n",
       "496581  [['Це', 'в', 'тому', 'місці', ',', 'яке', 'наз...   \n",
       "591523  [['Нас', 'приємно', 'здивував', ',', 'по', '-'...   \n",
       "152551  [['Чи', 'не', 'вперше', 'ми', 'використовуємо'...   \n",
       "\n",
       "                           review_translate_sentences_pos  \\\n",
       "263428  [['VERB', 'NOUN', 'PNCT', 'NPRO', 'VERB', 'NOU...   \n",
       "604051  [['ADJF', 'NOUN', 'PNCT', 'ADJF', 'NOUN', 'PNC...   \n",
       "337682  [['VERB', 'NOUN', 'INTJ', 'ADJF', 'NOUN', 'PNC...   \n",
       "559910  [['ADJF', 'NOUN', 'PNCT', 'PRCL', 'PRED', 'ADV...   \n",
       "386713  [['ADJF', 'NOUN', 'PNCT', 'ADJF', 'ADJF', 'NOU...   \n",
       "276556  [['VERB', 'ADJF', 'INTJ', 'NOUN', 'PNCT', 'PRC...   \n",
       "315442  [['NPRO', 'VERB', 'NOUN', 'ADJF', 'PREP', 'NOU...   \n",
       "496581  [['PRCL', 'PREP', 'NOUN', 'NOUN', 'PNCT', 'NPR...   \n",
       "591523  [['NPRO', 'ADVB', 'VERB', 'PNCT', 'PREP', 'PNC...   \n",
       "152551  [['PRCL', 'PRCL', 'ADVB', 'NPRO', 'VERB', 'NOU...   \n",
       "\n",
       "                         review_translate_sentences_lemma  \\\n",
       "263428  [['читати', 'коментар', ',', 'який', 'думати',...   \n",
       "604051  [['класний', 'їжа', ',', 'гарний', 'місце', ',...   \n",
       "337682  [['купити', 'дитина', 'на', 'новий', 'ріка', '...   \n",
       "559910  [['гарний', 'місце', ',', 'де', 'можна', 'смач...   \n",
       "386713  [['хороший', 'пенал', ',', 'куплений', 'фіолет...   \n",
       "276556  [['купити', 'синовий', 'на', 'стрижка', ',', '...   \n",
       "315442  [['я', 'прийняти', 'йога', 'чоловіковий', 'в',...   \n",
       "496581  [['це', 'в', 'том', 'місце', ',', 'який', 'наз...   \n",
       "591523  [['ми', 'приємно', 'здивувати', ',', 'по', '-'...   \n",
       "152551  [['чи', 'не', 'вперше', 'ми', 'використовувати...   \n",
       "\n",
       "                                       is_question  \n",
       "263428                                     [False]  \n",
       "604051                [False, False, False, False]  \n",
       "337682                [False, False, False, False]  \n",
       "559910                       [False, False, False]  \n",
       "386713                       [False, False, False]  \n",
       "276556                       [False, False, False]  \n",
       "315442                              [False, False]  \n",
       "496581  [False, False, False, False, False, False]  \n",
       "591523  [False, False, False, False, False, False]  \n",
       "152551                       [False, False, False]  "
      ]
     },
     "execution_count": 60,
     "metadata": {},
     "output_type": "execute_result"
    }
   ],
   "source": [
    "df.sample(10)"
   ]
  },
  {
   "cell_type": "code",
   "execution_count": 64,
   "id": "790c3073-315b-4551-83bb-11d98937316e",
   "metadata": {},
   "outputs": [
    {
     "data": {
      "text/plain": [
       "array(['Через 10 місяців після покупки мишка почала конкретно зависати . Міняла різні батарейки , акумулятори - все одно зависає . Хоча у колеги така мишка працює нормально . Тепер доведеться купувати нову мишу ( (',\n",
       "       'Непогані хот - доги . Радує , що в столиці є такий бар з гастрономічно цікавими порціями фастфуду .',\n",
       "       'Я частий клієнт у цьому місці , оскільки воно добре розташоване , і я дуже ціную їжу . Це смачно і не дорого . Вареники справді найкращі в місті . Прикраса теж приємне . Я часто беру сюди своїх іноземних друзів . АЛЕ : Найбільшим недоліком цього місця є сервіс : деякі офіціанти дійсно доглянуті і дуже часто , побачивши групу іноземців , « випадково » вкладають щось зайве в ваш рахунок . Зі мною це траплялося 2 - 3 рази , хоча я говорю ідеальною російською мовою і легко бачу , що не так із законопроектом . Ви повинні бути обережними і перевіряти свої витрати .',\n",
       "       \"Гарний якісний агрегат . По перемелюванню м'яса немає ніяких претензій . А от пластиковий корпус для шатківниці тріснув в основі кріплення до м'ясорубки через 3 місяці : ( . І гарантія на цю деталь не поширюється .\",\n",
       "       \"Вечеряли з сім'єю ( 5 осіб ) на Святошино . Атмосфера дуже приємна , людей не так багато . Сподобалося обслуговування ! Спасибі офіціантові . Ми замовили вино , сирну тарілку , рулети з баклажанів , три види хачапурі , курячий суп , індичку з яблуками , шашлик , миски і метехі . Хачапурі дуже і дуже смачний , сири на любителя . Миски , метехі і курячий суп можна сміливо рекомендувати теж , смачні . А ось шашлик і індичку мені зовсім не сподобалися , м'ясо жорстке і сухе .\",\n",
       "       'Мій головний критерій чайника - відсутність запаху . Я читала відгуки і не бачила в них запаху : ) . , Чайник має досить помітний запах пластику . , Інакше чайник схожий на чайник - білий і нагріває воду .',\n",
       "       'Це місце досить відоме в Харкові серед людей , які хочуть провести час з друзями . Зазвичай тут проходять концерти різних колективів . Дуже приємна атмосфера і настрій . Моя оцінка 3 через обслуговування та харчування . Офіціант чекав , коли я закінчу трапезу , і попросив мене дати йому свою тарілку , що ненормально . Ніколи не замовляйте сирну тарілку . Сир був зіпсований і не відповідав назвам , заявленим в меню .',\n",
       "       'Я не знаю , чого я хотів за таку ціну , але явно ні . Краще переплатити і взяти щось інше .',\n",
       "       'Попкорн з нестабільною якістю . Що купують , що є в кіно . Або за смаком нагадує звичайний сир , або ніякий , або відмінний . Дивно , але нарікань на той же попкорн в супермаркетах ніколи не було .',\n",
       "       \"Запаху пластику як писали інші , майже немає , фільтри зняті ( не знаю , чи не вдалося зняти інші ) , один з респіраторів прийшов пом'ятий і всередині можна побачити вигнуте лиття , підборіддя не притиснуте , потрібно або ліпити іншу гумку , або натискати однією рукою на підборіддя , що дуже незручно . Упаковка була настільки мертва , що здавалося , що вона грає в футбол , якщо я хочу повернутися , я не впевнений , що її приймуть , вона настільки зруйнована , що хтось навіть відновив її скотчем . Ну і найголовніше , вона дійсно зовсім маленька , на фото зображена моя долоня і респіратор і це з урахуванням того , що моя долоня сама по собі не велика . , Якби мені довелося купувати ще раз , то , швидше за все , я б купила більше , але тільки тому , що немає грошей на звичайний респіратор .\"],\n",
       "      dtype=object)"
      ]
     },
     "execution_count": 64,
     "metadata": {},
     "output_type": "execute_result"
    }
   ],
   "source": [
    "df[df.rating == 3].sample(10)['review_translate'].values"
   ]
  },
  {
   "cell_type": "code",
   "execution_count": 65,
   "id": "1e0458e7-2dba-4e04-9b3e-701ba3b3dbda",
   "metadata": {},
   "outputs": [
    {
     "data": {
      "text/plain": [
       "Index(['review', 'review_translate', 'rating', 'entity_name', 'dataset_name',\n",
       "       'title_translate', 'translated', 'review_translate_sentences',\n",
       "       'review_translate_sentences_tokens', 'review_translate_sentences_pos',\n",
       "       'review_translate_sentences_lemma', 'is_question'],\n",
       "      dtype='object')"
      ]
     },
     "execution_count": 65,
     "metadata": {},
     "output_type": "execute_result"
    }
   ],
   "source": [
    "df.columns"
   ]
  },
  {
   "cell_type": "code",
   "execution_count": 73,
   "id": "44e650a7-643e-4c5e-b9ef-9080ce3bcb1b",
   "metadata": {},
   "outputs": [],
   "source": [
    "from sklearn.model_selection import train_test_split\n",
    "\n",
    "train_ratio = 0.75\n",
    "eval_ratio = 0.1\n",
    "test_ratio = 0.15\n",
    "\n",
    "train_eval_df, test_df = train_test_split(df,\n",
    "                                          test_size=test_ratio,\n",
    "                                          stratify=df[['dataset_name', 'rating']],\n",
    "                                          random_state=42)\n",
    "\n",
    "train_df, eval_df = train_test_split(train_eval_df,\n",
    "                                     test_size=eval_ratio / (train_ratio + eval_ratio),  # Adjust to maintain overall ratio\n",
    "                                     stratify=train_eval_df[['dataset_name', 'rating']],\n",
    "                                     random_state=42)"
   ]
  },
  {
   "cell_type": "code",
   "execution_count": 74,
   "id": "0dde5208-c6f1-46ac-9f20-98bce9836ef1",
   "metadata": {},
   "outputs": [
    {
     "data": {
      "text/plain": [
       "((415992, 12), (83199, 12), (55466, 12))"
      ]
     },
     "execution_count": 74,
     "metadata": {},
     "output_type": "execute_result"
    }
   ],
   "source": [
    "train_df.shape, test_df.shape, eval_df.shape"
   ]
  },
  {
   "cell_type": "code",
   "execution_count": 77,
   "id": "44b190b9-11a6-4160-b6da-d1d6dae59369",
   "metadata": {},
   "outputs": [],
   "source": [
    "train_df = train_df[['review_translate', 'rating']]\n",
    "train_df.columns = ['text', 'label']\n",
    "\n",
    "test_df = test_df[['review_translate', 'rating']]\n",
    "test_df.columns = ['text', 'label']\n",
    "\n",
    "eval_df = eval_df[['review_translate', 'rating']]\n",
    "eval_df.columns = ['text', 'label']"
   ]
  },
  {
   "cell_type": "code",
   "execution_count": 78,
   "id": "6682478a-3485-4bc3-ad1f-1cdcf1715ae2",
   "metadata": {},
   "outputs": [],
   "source": [
    "train_df.to_csv('train_reviews.csv', index = False)\n",
    "test_df.to_csv('test_reviews.csv', index = False)\n",
    "eval_df.to_csv('eval_reviews.csv', index = False)"
   ]
  },
  {
   "cell_type": "code",
   "execution_count": null,
   "id": "319190fd-defc-43a6-9bbd-5fdf0e110ff2",
   "metadata": {},
   "outputs": [],
   "source": []
  },
  {
   "cell_type": "code",
   "execution_count": null,
   "id": "5b8c4bbb-d57d-4fd5-9e10-d54a69c95647",
   "metadata": {},
   "outputs": [],
   "source": []
  }
 ],
 "metadata": {
  "kernelspec": {
   "display_name": "Python 3 (ipykernel)",
   "language": "python",
   "name": "python3"
  },
  "language_info": {
   "codemirror_mode": {
    "name": "ipython",
    "version": 3
   },
   "file_extension": ".py",
   "mimetype": "text/x-python",
   "name": "python",
   "nbconvert_exporter": "python",
   "pygments_lexer": "ipython3",
   "version": "3.10.14"
  }
 },
 "nbformat": 4,
 "nbformat_minor": 5
}
